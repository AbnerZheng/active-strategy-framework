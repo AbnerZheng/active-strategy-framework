{
 "cells": [
  {
   "cell_type": "markdown",
   "metadata": {
    "pycharm": {
     "name": "#%% md\n"
    }
   },
   "source": [
    "# Gamma Strategies Simulator\n",
    "\n",
    "This notebook is an example of the usage of the ```ResetStrategyImplementer.py``` to simulate the performance of Uniswap v3 strategies.\n",
    "\n",
    "This notebook allows the analysis of any strategy for the Hypervisor on the **USDC-WETH** pool contract ```0x8ad599c3a0ff1de082011efddc58f1908eb6e6d8```. By modifying the ```ResetStrategyImplementer.py``` contract you can easily implement any strategy and analyze the performance using the output of this notebook.\n",
    "\n",
    "The workflow is as follows:\n",
    "\n",
    "1. Using ```GetPoolData.py``` we download all swaps in the pool from TheGraph, as well as price history data from Bitquery. From FlipsideCrypto we download the amount of virtual liquidity in the pool at every block. These are processed into ```swap_data``` pandas DataFrame, which has every swap in the pool and the virtual liquidity in the pool the block prior to the swap. Additionally, ```price_data``` has historical price data from Uniswap. \n",
    "2. We generate from the historical price data estimates of future returns through the empirical cumulative density function, which provides a probability distribution over price changes, where these changes are calculated over time periods of ```AGGREGATED_MINUTES``` length. \n",
    "3. We simulate the strategy and provide an estimate of the fees that would have been accrued given the swaps that were in the price range of the strategy at each point in time, by using the proportion of liquidity provided relative to the pool's liquidity from the FlipsideCrypto data.\n",
    "4. The ```data_strategy``` DataFrame summarizes the results of the strategy.\n",
    "\n",
    "To run this notebook locally:\n",
    "\n",
    "1. Generate an API key from [Bitquery](https://graphql.bitquery.io/ide) and save it in a file ```config.py``` in this directory.\n",
    "2. Run this notebook."
   ]
  },
  {
   "cell_type": "markdown",
   "metadata": {
    "pycharm": {
     "name": "#%% md\n"
    }
   },
   "source": [
    "## Download data"
   ]
  },
  {
   "cell_type": "code",
   "execution_count": 2,
   "metadata": {
    "pycharm": {
     "name": "#%%\n"
    }
   },
   "outputs": [
    {
     "ename": "FileNotFoundError",
     "evalue": "[Errno 2] No such file or directory: './data/eth_usdc_swap.pkl'",
     "output_type": "error",
     "traceback": [
      "\u001b[0;31m---------------------------------------------------------------------------\u001b[0m",
      "\u001b[0;31mFileNotFoundError\u001b[0m                         Traceback (most recent call last)",
      "Cell \u001b[0;32mIn [2], line 31\u001b[0m\n\u001b[1;32m     28\u001b[0m price_data_end           \u001b[38;5;241m=\u001b[39m \u001b[38;5;124m'\u001b[39m\u001b[38;5;124m2021-12-31\u001b[39m\u001b[38;5;124m'\u001b[39m\n\u001b[1;32m     29\u001b[0m file_name                \u001b[38;5;241m=\u001b[39m \u001b[38;5;124m'\u001b[39m\u001b[38;5;124meth_usdc\u001b[39m\u001b[38;5;124m'\u001b[39m\n\u001b[0;32m---> 31\u001b[0m swap_data                \u001b[38;5;241m=\u001b[39m \u001b[43mGetPoolData\u001b[49m\u001b[38;5;241;43m.\u001b[39;49m\u001b[43mget_pool_data_flipside\u001b[49m\u001b[43m(\u001b[49m\u001b[43maddress\u001b[49m\u001b[43m,\u001b[49m\u001b[43mflipside_queries\u001b[49m\u001b[43m,\u001b[49m\u001b[43mfile_name\u001b[49m\u001b[43m,\u001b[49m\u001b[43mDOWNLOAD_DATA\u001b[49m\u001b[43m)\u001b[49m  \n\u001b[1;32m     32\u001b[0m price_data               \u001b[38;5;241m=\u001b[39m GetPoolData\u001b[38;5;241m.\u001b[39mget_price_data_bitquery(token_0_address,token_1_address,price_data_begin,price_data_end,BITQUERY_API_TOKEN,file_name,DOWNLOAD_DATA)\n",
      "File \u001b[0;32m~/PycharmProjects/active-strategy-framework/GetPoolData.py:203\u001b[0m, in \u001b[0;36mget_pool_data_flipside\u001b[0;34m(contract_address, flipside_query, file_name, DOWNLOAD_DATA)\u001b[0m\n\u001b[1;32m    198\u001b[0m \u001b[38;5;124;03m\"\"\"\u001b[39;00m\n\u001b[1;32m    199\u001b[0m \u001b[38;5;124;03mQueries Uniswap v3's subgraph for swap data and Flipside Crypto's queries to find liquidity in order to conduct simulations using the Active Strategy Framework.\u001b[39;00m\n\u001b[1;32m    200\u001b[0m \u001b[38;5;124;03m\"\"\"\u001b[39;00m\n\u001b[1;32m    202\u001b[0m \u001b[38;5;66;03m# Download  events\u001b[39;00m\n\u001b[0;32m--> 203\u001b[0m swap_data               \u001b[38;5;241m=\u001b[39m \u001b[43mget_swap_data\u001b[49m\u001b[43m(\u001b[49m\u001b[43mcontract_address\u001b[49m\u001b[43m,\u001b[49m\u001b[43mfile_name\u001b[49m\u001b[43m,\u001b[49m\u001b[43mDOWNLOAD_DATA\u001b[49m\u001b[43m)\u001b[49m\n\u001b[1;32m    204\u001b[0m swap_data[\u001b[38;5;124m'\u001b[39m\u001b[38;5;124mtime_pd\u001b[39m\u001b[38;5;124m'\u001b[39m]    \u001b[38;5;241m=\u001b[39m pd\u001b[38;5;241m.\u001b[39mto_datetime(swap_data[\u001b[38;5;124m'\u001b[39m\u001b[38;5;124mtimestamp\u001b[39m\u001b[38;5;124m'\u001b[39m], unit\u001b[38;5;241m=\u001b[39m\u001b[38;5;124m'\u001b[39m\u001b[38;5;124ms\u001b[39m\u001b[38;5;124m'\u001b[39m, origin\u001b[38;5;241m=\u001b[39m\u001b[38;5;124m'\u001b[39m\u001b[38;5;124munix\u001b[39m\u001b[38;5;124m'\u001b[39m,utc\u001b[38;5;241m=\u001b[39m\u001b[38;5;28;01mTrue\u001b[39;00m)\n\u001b[1;32m    205\u001b[0m swap_data               \u001b[38;5;241m=\u001b[39m swap_data\u001b[38;5;241m.\u001b[39mset_index(\u001b[38;5;124m'\u001b[39m\u001b[38;5;124mtime_pd\u001b[39m\u001b[38;5;124m'\u001b[39m)\n",
      "File \u001b[0;32m~/PycharmProjects/active-strategy-framework/GetPoolData.py:171\u001b[0m, in \u001b[0;36mget_swap_data\u001b[0;34m(contract_address, file_name, DOWNLOAD_DATA, network)\u001b[0m\n\u001b[1;32m    169\u001b[0m             pickle\u001b[38;5;241m.\u001b[39mdump(request_swap, output, pickle\u001b[38;5;241m.\u001b[39mHIGHEST_PROTOCOL)\n\u001b[1;32m    170\u001b[0m \u001b[38;5;28;01melse\u001b[39;00m:\n\u001b[0;32m--> 171\u001b[0m     \u001b[38;5;28;01mwith\u001b[39;00m \u001b[38;5;28;43mopen\u001b[39;49m\u001b[43m(\u001b[49m\u001b[38;5;124;43m'\u001b[39;49m\u001b[38;5;124;43m./data/\u001b[39;49m\u001b[38;5;124;43m'\u001b[39;49m\u001b[38;5;241;43m+\u001b[39;49m\u001b[43mfile_name\u001b[49m\u001b[38;5;241;43m+\u001b[39;49m\u001b[38;5;124;43m'\u001b[39;49m\u001b[38;5;124;43m_swap.pkl\u001b[39;49m\u001b[38;5;124;43m'\u001b[39;49m\u001b[43m,\u001b[49m\u001b[43m \u001b[49m\u001b[38;5;124;43m'\u001b[39;49m\u001b[38;5;124;43mrb\u001b[39;49m\u001b[38;5;124;43m'\u001b[39;49m\u001b[43m)\u001b[49m \u001b[38;5;28;01mas\u001b[39;00m \u001b[38;5;28minput\u001b[39m:\n\u001b[1;32m    172\u001b[0m         request_swap \u001b[38;5;241m=\u001b[39m pickle\u001b[38;5;241m.\u001b[39mload(\u001b[38;5;28minput\u001b[39m)\n\u001b[1;32m    174\u001b[0m \u001b[38;5;28;01mreturn\u001b[39;00m pd\u001b[38;5;241m.\u001b[39mDataFrame(request_swap)\n",
      "\u001b[0;31mFileNotFoundError\u001b[0m: [Errno 2] No such file or directory: './data/eth_usdc_swap.pkl'"
     ]
    }
   ],
   "source": [
    "import pandas as pd\n",
    "import numpy as np\n",
    "import GetPoolData\n",
    "import ResetStrategy\n",
    "import ActiveStrategyFramework\n",
    "import itertools\n",
    "\n",
    "# Create config.py in this directory and enter your own Bitquery API Token\n",
    "from config import BITQUERY_API_TOKEN\n",
    "\n",
    "#################\n",
    "#\n",
    "# Download data\n",
    "#\n",
    "################\n",
    "\n",
    "# Get Swap Data\n",
    "DOWNLOAD_DATA      = False\n",
    "address            = '0x8ad599c3a0ff1de082011efddc58f1908eb6e6d8'\n",
    "token_0_address    = '0xA0b86991c6218b36c1d19D4a2e9Eb0cE3606eB48'\n",
    "token_1_address    = '0xC02aaA39b223FE8D0A0e5C4F27eAD9083C756Cc2'\n",
    "flipside_queries   = ['https://api.flipsidecrypto.com/api/v2/queries/b8ad3087-803a-478b-9ed3-c4f3c096bc47/data/latest',\n",
    "                      'https://api.flipsidecrypto.com/api/v2/queries/de277680-5ff6-4d58-bfff-29ef114215be/data/latest',\n",
    "                      'https://api.flipsidecrypto.com/api/v2/queries/669fc9f7-8b2d-4dd2-948f-668de9eb4e8a/data/latest']\n",
    "\n",
    "# Price data for theThese must be month ends\n",
    "price_data_begin         = '2020-12-31'\n",
    "price_data_end           = '2021-12-31'\n",
    "file_name                = 'eth_usdc'\n",
    "\n",
    "swap_data                = GetPoolData.get_pool_data_flipside(address,flipside_queries,file_name,DOWNLOAD_DATA)  \n",
    "price_data               = GetPoolData.get_price_data_bitquery(token_0_address,token_1_address,price_data_begin,price_data_end,BITQUERY_API_TOKEN,file_name,DOWNLOAD_DATA)"
   ]
  },
  {
   "cell_type": "markdown",
   "metadata": {
    "pycharm": {
     "name": "#%% md\n"
    }
   },
   "source": [
    "# Simulate Strategies\n",
    "\n",
    "Setting up, assume we will place a 50/50 \\\\$100k USDC + the equivalent WETH into the pool, for a total \\\\$200k USD value deposit, on July 15th, which is withdrawn on July 28th.\n",
    "\n",
    "The main parameters of the strategy are ```alpha_param``` for the width of the liquidity range around the current price, ```tau_param``` for the ranges that indicate rebalance, and ```limit_param``` which indicates when the limit position should be rebalanced.\n",
    "\n",
    "Let's simulate the strategy for several combinations of these parameters and see the statistics:"
   ]
  },
  {
   "cell_type": "code",
   "execution_count": null,
   "metadata": {
    "pycharm": {
     "name": "#%%\n"
    },
    "tags": []
   },
   "outputs": [],
   "source": [
    "#################\n",
    "#\n",
    "# Run Reset Strategy\n",
    "#\n",
    "################\n",
    "\n",
    "# Select date ranges for strategy simulation\n",
    "DATE_BEGIN                 = pd.to_datetime('2021-07-15 00:00PM',utc=True)\n",
    "DATE_END                   = pd.to_datetime('2021-07-28 00:00PM',utc=True)\n",
    "\n",
    "\n",
    "# Data for strategy simulation. We can use aggregate_price_data to analyze the strategy at a coarser STRATEGY_FREQUENCY in minutes\n",
    "z_score_cutoff                           = 5\n",
    "window_size                              = 60*12\n",
    "STRATEGY_FREQUENCY                       = 'M' \n",
    "simulate_data_filtered                   = ActiveStrategyFramework.aggregate_price_data(price_data,STRATEGY_FREQUENCY)\n",
    "simulate_data_filtered_roll              = simulate_data_filtered.quotePrice.rolling(window=window_size) \n",
    "simulate_data_filtered['roll_median']    = simulate_data_filtered_roll.median()\n",
    "roll_dev                                 = np.abs(simulate_data_filtered.quotePrice - simulate_data_filtered.roll_median)\n",
    "simulate_data_filtered['median_abs_dev'] = 1.4826*roll_dev.rolling(window=window_size).median()\n",
    "outlier_indices                          = np.abs(simulate_data_filtered.quotePrice - simulate_data_filtered.roll_median) >= z_score_cutoff*simulate_data_filtered['median_abs_dev']\n",
    "simulate_data_price                      = simulate_data_filtered[~outlier_indices]['quotePrice'][DATE_BEGIN:DATE_END]\n",
    "\n",
    "# Data for strategy estimation\n",
    "STATISTICAL_FREQUENCY        = 'D' \n",
    "statistical_data             = ActiveStrategyFramework.aggregate_price_data(price_data,STATISTICAL_FREQUENCY)\n",
    "statistical_data['z_scores'] = np.abs(scipy.stats.zscore(statistical_data['quotePrice']))\n",
    "statistical_data             = statistical_data.drop(statistical_data[abs(statistical_data.z_scores) > 3].index)\n",
    "statistical_data_filtered    = statistical_data.sort_index()\n",
    "\n",
    "# Initial Position Details\n",
    "INITIAL_TOKEN_0            = 100000\n",
    "INITIAL_TOKEN_1            = INITIAL_TOKEN_0*simulate_data_price[0]\n",
    "FEE_TIER                   = 0.003\n",
    "\n",
    "# Set decimals according to your pool\n",
    "DECIMALS_0 = 6\n",
    "DECIMALS_1 = 18\n",
    "swap_data['virtual_liquidity'] = swap_data['VIRTUAL_LIQUIDITY_ADJUSTED']*(10**((DECIMALS_1  + DECIMALS_0)/2))\n",
    "swap_data['traded_in']         = swap_data.apply(lambda x: -x['amount0'] if (x['amount0'] < 0) else -x['amount1'],axis=1).astype(float)\n",
    "swap_data['traded_out']        = swap_data.apply(lambda x:  x['amount0'] if (x['amount0'] > 0) else  x['amount1'],axis=1).astype(float)\n",
    "\n",
    "# Strategy Parameters\n",
    "alpha_range = [.50, .95]\n",
    "tau_range   = [.50, .95]\n",
    "limit_range = [.40, .50, .60]\n",
    "\n",
    "sim_performance  = []\n",
    "sim_results      = []\n",
    "\n",
    "for j in list(itertools.product(alpha_range,tau_range,limit_range)):\n",
    "    print(j)\n",
    "    Reset_Strategy                   = ResetStrategy.ResetStrategy(statistical_data_filtered,j[0],j[1],j[2])\n",
    "    simulated_strategy               = ActiveStrategyFramework.simulate_strategy(simulate_data_price,swap_data,Reset_Strategy,INITIAL_TOKEN_0,INITIAL_TOKEN_1,FEE_TIER,DECIMALS_0,DECIMALS_1)\n",
    "    sim_data                         = ActiveStrategyFramework.generate_simulation_series(simulated_strategy,Reset_Strategy)\n",
    "    strat_result                     = ActiveStrategyFramework.analyze_strategy(sim_data)\n",
    "    strat_result['alpha_param']      = j[0]\n",
    "    strat_result['tau_param']        = j[1]\n",
    "    strat_result['limit_param']      = j[2]\n",
    "    sim_results.append(simulated_strategy)\n",
    "    sim_performance.append(strat_result)\n",
    "    "
   ]
  },
  {
   "cell_type": "code",
   "execution_count": null,
   "metadata": {
    "pycharm": {
     "name": "#%%\n"
    }
   },
   "outputs": [],
   "source": [
    "pd.DataFrame(sim_performance)"
   ]
  },
  {
   "cell_type": "markdown",
   "metadata": {
    "pycharm": {
     "name": "#%% md\n"
    }
   },
   "source": [
    "# Evaluate Strategy\n",
    "\n",
    "Let's study the strategy:  ```alpha_param = 0.50```, ```tau_param = 0.95```, and ```limit_param = 0.5```\n",
    "\n",
    "We will be creating four charts in the next cells:\n",
    "\n",
    "1. Plot the strategy ranges against the actual price\n",
    "2. Plot the value of the position over time, decomposing the return into fee income vs. impermanent loss (this is an approximation, as this simulator compounds fees, making the calculation tougher).\n",
    "3. Plot the composition of assets of the LP position over time.\n",
    "4. Plot the value of the LP position vs. holding the initial assets.\n",
    "5. Plot the relative sizes of the base vs. limit positions"
   ]
  },
  {
   "cell_type": "code",
   "execution_count": null,
   "metadata": {
    "pycharm": {
     "name": "#%%\n"
    },
    "tags": []
   },
   "outputs": [],
   "source": [
    "resulting_strat                      = sim_results[4] \n",
    "data_strategy                        = ActiveStrategyFramework.generate_simulation_series(resulting_strat,Reset_Strategy)\n",
    "p = ActiveStrategyFramework.plot_strategy(data_strategy,'ETH / USDC Price','#0000FF')"
   ]
  },
  {
   "cell_type": "code",
   "execution_count": null,
   "metadata": {
    "pycharm": {
     "name": "#%%\n"
    },
    "tags": []
   },
   "outputs": [],
   "source": [
    "# 2 - Return Decomposition\n",
    "p = ActiveStrategyFramework.plot_position_return_decomposition(data_strategy)"
   ]
  },
  {
   "cell_type": "code",
   "execution_count": null,
   "metadata": {
    "pycharm": {
     "name": "#%%\n"
    },
    "tags": []
   },
   "outputs": [],
   "source": [
    "# 3 - Asset Composition\n",
    "p = ActiveStrategyFramework.plot_asset_composition(data_strategy,'USDC','ETH')"
   ]
  },
  {
   "cell_type": "code",
   "execution_count": null,
   "metadata": {
    "pycharm": {
     "name": "#%%\n"
    },
    "tags": []
   },
   "outputs": [],
   "source": [
    "# 4 - Performance Comparison\n",
    "p= ActiveStrategyFramework.plot_position_value(data_strategy)"
   ]
  },
  {
   "cell_type": "code",
   "execution_count": null,
   "metadata": {
    "pycharm": {
     "name": "#%%\n"
    },
    "tags": []
   },
   "outputs": [],
   "source": [
    "# 5 - Position Composition\n",
    "p = ActiveStrategyFramework.plot_position_composition(data_strategy)"
   ]
  }
 ],
 "metadata": {
  "kernelspec": {
   "display_name": "Python 3 (ipykernel)",
   "language": "python",
   "name": "python3"
  },
  "language_info": {
   "codemirror_mode": {
    "name": "ipython",
    "version": 3
   },
   "file_extension": ".py",
   "mimetype": "text/x-python",
   "name": "python",
   "nbconvert_exporter": "python",
   "pygments_lexer": "ipython3",
   "version": "3.10.6"
  }
 },
 "nbformat": 4,
 "nbformat_minor": 4
}
